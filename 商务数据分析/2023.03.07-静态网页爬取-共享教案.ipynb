{
 "cells": [
  {
   "cell_type": "markdown",
   "id": "30df46a2",
   "metadata": {},
   "source": [
    "# 发送请求"
   ]
  },
  {
   "cell_type": "code",
   "execution_count": 10,
   "id": "37320030",
   "metadata": {},
   "outputs": [
    {
     "name": "stdout",
     "output_type": "stream",
     "text": [
      "响应状态码： 200\n",
      "响应状态描述： OK\n",
      "编码： UTF-8\n",
      "地址： https://www.runoob.com/\n",
      "响应： <Response [200]>\n",
      "响应头： {'Server': 'JSP3/2.0.14', 'Date': 'Fri, 17 Mar 2023 02:31:42 GMT', 'Content-Type': 'text/html; charset=UTF-8', 'Transfer-Encoding': 'chunked', 'Connection': 'keep-alive', 'Content-Encoding': 'gzip', 'Age': '43435', 'Accept-Ranges': 'bytes', 'Vary': 'Accept-Encoding', 'Link': '<http://www.runoob.com/wp-json/>; rel=\"https://api.w.org/\"', 'Timing-Allow-Origin': '*', 'Ohc-Global-Saved-Time': 'Thu, 16 Mar 2023 14:26:47 GMT', 'Ohc-Cache-HIT': 'cs2cmcache62 [2], wzix62 [2]', 'Ohc-File-Size': '197227', 'X-Cache-Status': 'HIT'}\n",
      "请求头： {'User-Agent': 'python-requests/2.25.1', 'Accept-Encoding': 'gzip, deflate', 'Accept': '*/*', 'Connection': 'keep-alive'}\n"
     ]
    }
   ],
   "source": [
    "# 安装 requests（ 比 urllib简洁 ）。\n",
    "# pip install requests（ 高版本annaconda下不用安装 ）。\n",
    "\n",
    "# 导入 requests 包\n",
    "import requests\n",
    "\n",
    "# 发送请求，rq为响应\n",
    "rq = requests.get('https://www.runoob.com/')\n",
    "\n",
    "# 返回网页内容, 返回的是Unicode格式的数据\n",
    "# print('实体：',rq.text)     # rq.content与rq.text类似，但返回值是bytes类型\n",
    "\n",
    "# 说明：网页返回的内容，text是经过编码，所以看到的是字符，如果提取文字用text即可\n",
    "# 提取图片、文件就用content\n",
    "# 当text出现乱码时，可以改用content\n",
    "# 也可以重新编码\n",
    "\n",
    "# 查看响应状态码, 200 是 OK，404 是 Not Found\n",
    "print ('响应状态码：',rq.status_code) \n",
    "\n",
    "# 响应状态的描述, 如 \"Not Found\" 或 \"OK\"\n",
    "print('响应状态描述：',rq.reason)\n",
    "\n",
    "# 查看响应头部字符编码\n",
    "print ('编码：',rq.encoding)\n",
    "\n",
    "# 查看完整url地址\n",
    "print ('地址：',rq.url)\n",
    "\n",
    "# 查看响应\n",
    "print ('响应：',rq)\n",
    "\n",
    "# 查看响应头\n",
    "print ('响应头：',rq.headers)\n",
    "\n",
    "# 查看请求头\n",
    "print ('请求头：',rq.request.headers)"
   ]
  },
  {
   "cell_type": "markdown",
   "id": "fa862954",
   "metadata": {},
   "source": [
    "# 爬取本地网页数据"
   ]
  },
  {
   "cell_type": "code",
   "execution_count": 11,
   "id": "bb6a8467",
   "metadata": {},
   "outputs": [
    {
     "data": {
      "text/plain": [
       "lxml.etree._Element"
      ]
     },
     "execution_count": 11,
     "metadata": {},
     "output_type": "execute_result"
    }
   ],
   "source": [
    "#爬取本地网页数据\n",
    "from lxml import etree \n",
    "with open('html_doc.html') as f:# f为文件对象\n",
    "    htmldoc=f.read()\n",
    "type(htmldoc)    # 字符串\n",
    "htmldom=etree.HTML(htmldoc)    #解析网页\n",
    "type(htmldom)    # dom"
   ]
  },
  {
   "cell_type": "code",
   "execution_count": 12,
   "id": "682ad903",
   "metadata": {},
   "outputs": [
    {
     "data": {
      "text/plain": [
       "[]"
      ]
     },
     "execution_count": 12,
     "metadata": {},
     "output_type": "execute_result"
    }
   ],
   "source": [
    "htmldom.xpath('title') #无法读出相应内容，因为 Xpath 有其语法规则"
   ]
  },
  {
   "cell_type": "code",
   "execution_count": 13,
   "id": "41d1fbc5",
   "metadata": {},
   "outputs": [
    {
     "name": "stdout",
     "output_type": "stream",
     "text": [
      "[<Element a at 0x21342950b00>, <Element a at 0x21341f23f80>, <Element a at 0x213429541c0>]\n",
      "['\\n                Elsie\\n            ', '\\n                Lacie\\n            ', '\\n                Tillie\\n            ']\n",
      "['\\n                Lacie\\n            ']\n",
      "['\\n                Tillie\\n            ']\n",
      "['http://example.com/tillie']\n"
     ]
    }
   ],
   "source": [
    "#爬取本地网页数据\n",
    "from lxml import etree\n",
    "\n",
    "with open('html_doc.html') as f:    # 打开本地网页，如果非本地网页\n",
    "    htmldoc=f.read()                      # 则需要用requests请求\n",
    "htmldom=etree.HTML(htmldoc)               # 将网页中读出的字符串变为dom结构\n",
    "\n",
    "print(htmldom.xpath('//a'))               # 输出所有a标签，结果为内存地址\n",
    "print(htmldom.xpath('//a/text()'))        # 输出所有a标签内容\n",
    "print(htmldom.xpath('//a[2]/text()'))     # 输出第2个a标签内容\n",
    "print(htmldom.xpath('//a[@id=\"link3\"]/text()'))  # 输出id属性为link3的a标签内容\n",
    "print(htmldom.xpath('//a[@id=\"link3\"]/@href'))   # 输出id属性为link3的a标签中href属性内容\n"
   ]
  },
  {
   "cell_type": "code",
   "execution_count": 14,
   "id": "4ee66a05",
   "metadata": {},
   "outputs": [
    {
     "name": "stdout",
     "output_type": "stream",
     "text": [
      "['泰迪智能科技-大数据实验室建设_大数据实训平台-大数据人工智能专业建设']\n"
     ]
    }
   ],
   "source": [
    "# 【练习】解析http://tipdm.com/中，所有title标签的内容：\n",
    "\n",
    "import requests     #此时需要用requests模拟http请求\n",
    "from lxml import etree  \n",
    "\n",
    "rq = requests.get('http://tipdm.com/')   # 生成http请求，获取网页数据\n",
    "\n",
    "htmldom=etree.HTML(rq.text)              #rq.text为网页字符串，将其变为dom树\n",
    "print(htmldom.xpath('/html//title/text()'))  #利用xpath在dom树中查找所需节点\n",
    "\n"
   ]
  },
  {
   "cell_type": "code",
   "execution_count": 15,
   "id": "b8706747",
   "metadata": {},
   "outputs": [
    {
     "data": {
      "text/plain": [
       "['首页',\n",
       " '产品中心',\n",
       " '大数据产品',\n",
       " '线上产品',\n",
       " '教学资源',\n",
       " '大数据挖掘建模平台',\n",
       " '实验室建设',\n",
       " '大数据实验室',\n",
       " '人工智能实验室',\n",
       " '商务数据分析实验室',\n",
       " '培训',\n",
       " '培训动态',\n",
       " '培训服务',\n",
       " '培训讲师',\n",
       " '就业培训',\n",
       " '培训平台',\n",
       " '培训足迹',\n",
       " '企业应用',\n",
       " '信访大数据',\n",
       " '数据治理',\n",
       " '环保大数据',\n",
       " '运输安全大数据',\n",
       " '广电大数据',\n",
       " '电力大数据',\n",
       " '更多解决方案',\n",
       " '校企合作',\n",
       " '协同育人',\n",
       " '实践基地',\n",
       " '创新创业',\n",
       " '项目申报',\n",
       " '合作案例',\n",
       " '新闻中心',\n",
       " '公司新闻',\n",
       " '媒体报道',\n",
       " '1+X证书',\n",
       " '成本核算',\n",
       " '关于我们',\n",
       " '公司简介',\n",
       " '泰迪杯',\n",
       " '城市合伙人',\n",
       " '大事记',\n",
       " '资质荣誉',\n",
       " '活动图集',\n",
       " '联系我们',\n",
       " '<',\n",
       " '>',\n",
       " '实验室建设',\n",
       " '了解更多',\n",
       " '产品中心',\n",
       " '商务数据分析实训管理平台',\n",
       " '业务咨询',\n",
       " '云计算资源管理平台',\n",
       " '业务咨询',\n",
       " '大数据编程实训平台',\n",
       " '业务咨询',\n",
       " '商务数据分析编程实训平台',\n",
       " '业务咨询',\n",
       " '泰迪学院',\n",
       " '直接访问',\n",
       " '大数据综合实训平台',\n",
       " '业务咨询',\n",
       " '了解更多',\n",
       " '培训',\n",
       " '了解更多',\n",
       " '成功案例',\n",
       " '更多案例',\n",
       " '更多案例',\n",
       " '更多案例',\n",
       " '新闻中心',\n",
       " '更多资讯',\n",
       " '合作伙伴',\n",
       " '产教融合服务平台',\n",
       " '大数据挖掘企业服务平台',\n",
       " '模型交易平台',\n",
       " 'BdRace数睿思竞赛平台',\n",
       " '泰迪内推',\n",
       " '泰迪教育',\n",
       " '泰迪云课堂',\n",
       " '泰迪云教材',\n",
       " '粤ICP备14098620号',\n",
       " '粤公网安备44011202000980号',\n",
       " '许老师：3120701392']"
      ]
     },
     "execution_count": 15,
     "metadata": {},
     "output_type": "execute_result"
    }
   ],
   "source": [
    "# 【思考】如果是要获取网址中所有a标签内容，该怎么做？\n",
    "# 所有a标签\n",
    "lista = htmldom.xpath('/html//a/text()')\n",
    "listb = [x.strip()  for x in lista if x.strip() != '']\n",
    "listb"
   ]
  },
  {
   "cell_type": "code",
   "execution_count": 16,
   "id": "aa550f72",
   "metadata": {},
   "outputs": [
    {
     "name": "stdout",
     "output_type": "stream",
     "text": [
      "['学院概况', '学校简介', '历史沿革', '校史档案', '现任领导', '历任领导', '发展规划', '信息公开', '机构设置', '教学学院', '职能部门', '共管和直属单位', '人才培养', '本科生教育', '研究生教育', '继续教育', '学科科研', '重点学科', '本科专业', '科研在线', '科研平台', '校级平台', '省级以上', '学报', '人才招聘', '教师招聘', '辅导员招聘', '招生就业', '招生在线', '就业在线', '创业孵化基地', '合作交流', '国际交流', '港澳台交流', '对外合作', '文化生活', '光谷论坛', '学工在线', '青年在线', '工会活动']\n"
     ]
    }
   ],
   "source": [
    "# 【练习1】解析 https://www.hue.edu.cn/ 中，菜单中的文本：（所有 li标签下，a标签的内容）\n",
    "\n",
    "import requests     #此时需要用requests模拟http请求\n",
    "from lxml import etree  \n",
    "\n",
    "url='https://www.hue.edu.cn/'\n",
    "rq = requests.get(url)   # 生成http请求，获取网页数据\n",
    "\n",
    "# htmldom=etree.HTML(rq.text)                 # 如果 rq.text为乱码，则说明解码不正确\n",
    "# print(htmldom.xpath('/html//li/a/text()'))  # 利用xpath在dom树中查找所需节点\n",
    "\n",
    "# 修改1：\n",
    "# htmldom=etree.HTML(rq.content)                 # 如果 rq.text为乱码，则说明解码不正确\n",
    "# print(htmldom.xpath('/html//li/a/text()'))  # 利用xpath在dom树中查找所需节点\n",
    "\n",
    "# 修改2：\n",
    "text = rq.content.decode('utf-8')\n",
    "htmldom1 = etree.HTML(text)               # 如果 rq.text为乱码，则说明\n",
    "print(htmldom1.xpath('/html//li/a/text()'))  \n"
   ]
  },
  {
   "cell_type": "markdown",
   "id": "9deffbf1",
   "metadata": {},
   "source": [
    "# 利用BeautifulSoup解析网页"
   ]
  },
  {
   "cell_type": "code",
   "execution_count": 17,
   "id": "c82f6e6b",
   "metadata": {},
   "outputs": [
    {
     "name": "stdout",
     "output_type": "stream",
     "text": [
      "<a class=\"sister\" href=\"http://example.com/elsie\" id=\"link1\">\n",
      "                Elsie\n",
      "            </a>\n",
      "<class 'bs4.element.Tag'>\n",
      "<p class=\"title\">\n",
      "<b>\n",
      "                The Dormouse's story\n",
      "            </b>\n",
      "</p>\n"
     ]
    }
   ],
   "source": [
    "from bs4 import BeautifulSoup as bs     #注意大小写\n",
    "\n",
    "with open('html_doc.html') as f:\n",
    "    soup = bs(f,features='lxml')  # 用lxml解释器进行解析\n",
    "    \n",
    "# soup  # 显示网页源码 \n",
    "# 注意：soup看起来是网页源码，但其实它是BeautifulSoup对象\n",
    "type(soup)           # BeautifulSoup对象\n",
    "\n",
    "print(soup.a)        # 返回第一个a标签本身\n",
    "print(type(soup.a))  # 返回第一个a标签类型\n",
    "print(soup.p)        #返回第一个p标签本身"
   ]
  },
  {
   "cell_type": "code",
   "execution_count": 18,
   "id": "4fe8d7e9",
   "metadata": {},
   "outputs": [
    {
     "data": {
      "text/plain": [
       "['学院概况', '机构设置', '人才培养', '学科科研', '人才招聘', '招生就业', '合作交流', '文化生活']"
      ]
     },
     "execution_count": 18,
     "metadata": {},
     "output_type": "execute_result"
    }
   ],
   "source": [
    "# 【练习】1.利用BeautifulSoup爬取湖北第二师范学院主页菜单信息\n",
    "\n",
    "import requests\n",
    "from bs4 import BeautifulSoup\n",
    "import numpy as np\n",
    "import pandas as pd\n",
    "\n",
    "# 生成http请求，获取网页数据，rq为一个应答\n",
    "\n",
    "url='https://www.hue.edu.cn/'\n",
    "rq = requests.get(url)\n",
    "rq.encoding= \"utf-8\"\n",
    "rq = rq.text\n",
    "# 将rq.text变为bs4结构，lxml解释器进行解析\n",
    "soup = BeautifulSoup(rq,features='lxml')\n",
    "link1 = soup.select('.menu-item .menu-link ')\n",
    "t1 = []\n",
    "for i in link1:\n",
    "    t1.append(i.text)\n",
    "t1"
   ]
  },
  {
   "cell_type": "code",
   "execution_count": 19,
   "id": "cfb807cd",
   "metadata": {},
   "outputs": [
    {
     "data": {
      "text/plain": [
       "[['学校简介', '历史沿革', '校史档案', '现任领导', '历任领导', '发展规划', '信息公开'],\n",
       " ['教学学院', '职能部门', '共管和直属单位'],\n",
       " ['本科生教育', '研究生教育', '继续教育'],\n",
       " ['重点学科', '本科专业', '科研在线', '科研平台', '校级平台', '省级以上', '学报'],\n",
       " ['教师招聘', '辅导员招聘'],\n",
       " ['招生在线', '就业在线', '创业孵化基地'],\n",
       " ['国际交流', '港澳台交流', '对外合作'],\n",
       " ['光谷论坛', '学工在线', '青年在线', '工会活动']]"
      ]
     },
     "execution_count": 19,
     "metadata": {},
     "output_type": "execute_result"
    }
   ],
   "source": [
    "# 【思考】2.继续爬取主页菜单中各个子菜单信息，将获取的信息组成数据框\n",
    "link2 = soup.select('.menu-item > ul')\n",
    "t2 = []\n",
    "for i in link2:\n",
    "    t3 = []\n",
    "    link3 = i.select('a')\n",
    "    for j in link3:\n",
    "        t3.append(j.text)\n",
    "    t2.append(t3)\n",
    "t2\n"
   ]
  },
  {
   "cell_type": "code",
   "execution_count": 20,
   "id": "aa18b9a6",
   "metadata": {},
   "outputs": [
    {
     "data": {
      "text/html": [
       "<div>\n",
       "<style scoped>\n",
       "    .dataframe tbody tr th:only-of-type {\n",
       "        vertical-align: middle;\n",
       "    }\n",
       "\n",
       "    .dataframe tbody tr th {\n",
       "        vertical-align: top;\n",
       "    }\n",
       "\n",
       "    .dataframe thead th {\n",
       "        text-align: right;\n",
       "    }\n",
       "</style>\n",
       "<table border=\"1\" class=\"dataframe\">\n",
       "  <thead>\n",
       "    <tr style=\"text-align: right;\">\n",
       "      <th></th>\n",
       "      <th>学院概况</th>\n",
       "      <th>机构设置</th>\n",
       "      <th>人才培养</th>\n",
       "      <th>学科科研</th>\n",
       "      <th>人才招聘</th>\n",
       "      <th>招生就业</th>\n",
       "      <th>合作交流</th>\n",
       "      <th>文化生活</th>\n",
       "    </tr>\n",
       "  </thead>\n",
       "  <tbody>\n",
       "    <tr>\n",
       "      <th>0</th>\n",
       "      <td>学校简介</td>\n",
       "      <td>教学学院</td>\n",
       "      <td>本科生教育</td>\n",
       "      <td>重点学科</td>\n",
       "      <td>教师招聘</td>\n",
       "      <td>招生在线</td>\n",
       "      <td>国际交流</td>\n",
       "      <td>光谷论坛</td>\n",
       "    </tr>\n",
       "    <tr>\n",
       "      <th>1</th>\n",
       "      <td>历史沿革</td>\n",
       "      <td>职能部门</td>\n",
       "      <td>研究生教育</td>\n",
       "      <td>本科专业</td>\n",
       "      <td>辅导员招聘</td>\n",
       "      <td>就业在线</td>\n",
       "      <td>港澳台交流</td>\n",
       "      <td>学工在线</td>\n",
       "    </tr>\n",
       "    <tr>\n",
       "      <th>2</th>\n",
       "      <td>校史档案</td>\n",
       "      <td>共管和直属单位</td>\n",
       "      <td>继续教育</td>\n",
       "      <td>科研在线</td>\n",
       "      <td>NaN</td>\n",
       "      <td>创业孵化基地</td>\n",
       "      <td>对外合作</td>\n",
       "      <td>青年在线</td>\n",
       "    </tr>\n",
       "    <tr>\n",
       "      <th>3</th>\n",
       "      <td>现任领导</td>\n",
       "      <td>NaN</td>\n",
       "      <td>NaN</td>\n",
       "      <td>科研平台</td>\n",
       "      <td>NaN</td>\n",
       "      <td>NaN</td>\n",
       "      <td>NaN</td>\n",
       "      <td>工会活动</td>\n",
       "    </tr>\n",
       "    <tr>\n",
       "      <th>4</th>\n",
       "      <td>历任领导</td>\n",
       "      <td>NaN</td>\n",
       "      <td>NaN</td>\n",
       "      <td>校级平台</td>\n",
       "      <td>NaN</td>\n",
       "      <td>NaN</td>\n",
       "      <td>NaN</td>\n",
       "      <td>NaN</td>\n",
       "    </tr>\n",
       "    <tr>\n",
       "      <th>5</th>\n",
       "      <td>发展规划</td>\n",
       "      <td>NaN</td>\n",
       "      <td>NaN</td>\n",
       "      <td>省级以上</td>\n",
       "      <td>NaN</td>\n",
       "      <td>NaN</td>\n",
       "      <td>NaN</td>\n",
       "      <td>NaN</td>\n",
       "    </tr>\n",
       "    <tr>\n",
       "      <th>6</th>\n",
       "      <td>信息公开</td>\n",
       "      <td>NaN</td>\n",
       "      <td>NaN</td>\n",
       "      <td>学报</td>\n",
       "      <td>NaN</td>\n",
       "      <td>NaN</td>\n",
       "      <td>NaN</td>\n",
       "      <td>NaN</td>\n",
       "    </tr>\n",
       "  </tbody>\n",
       "</table>\n",
       "</div>"
      ],
      "text/plain": [
       "   学院概况     机构设置   人才培养  学科科研   人才招聘    招生就业   合作交流  文化生活\n",
       "0  学校简介     教学学院  本科生教育  重点学科   教师招聘    招生在线   国际交流  光谷论坛\n",
       "1  历史沿革     职能部门  研究生教育  本科专业  辅导员招聘    就业在线  港澳台交流  学工在线\n",
       "2  校史档案  共管和直属单位   继续教育  科研在线    NaN  创业孵化基地   对外合作  青年在线\n",
       "3  现任领导      NaN    NaN  科研平台    NaN     NaN    NaN  工会活动\n",
       "4  历任领导      NaN    NaN  校级平台    NaN     NaN    NaN   NaN\n",
       "5  发展规划      NaN    NaN  省级以上    NaN     NaN    NaN   NaN\n",
       "6  信息公开      NaN    NaN    学报    NaN     NaN    NaN   NaN"
      ]
     },
     "execution_count": 20,
     "metadata": {},
     "output_type": "execute_result"
    }
   ],
   "source": [
    "#构成数据框\n",
    "import pandas as pd\n",
    "import numpy as np\n",
    "t4 = []\n",
    "for i in range(len(t1)):\n",
    "    s1 = pd.Series(t2[i], name=t1[i])\n",
    "    t4.append(s1)\n",
    "df = pd.concat(t4, axis=1)\n",
    "df"
   ]
  },
  {
   "cell_type": "code",
   "execution_count": 21,
   "id": "cbc746b0",
   "metadata": {
    "scrolled": true
   },
   "outputs": [
    {
     "name": "stdout",
     "output_type": "stream",
     "text": [
      "['湖北第二师范学院']\n"
     ]
    }
   ],
   "source": [
    "# 【练习】2.利用Xpath定位，爬取湖北第二师范学院主页菜单信息\n",
    "\n",
    "import requests\n",
    "from lxml import etree  \n",
    "import numpy as np\n",
    "import pandas as pd\n",
    "\n",
    "# 生成http请求，获取网页数据，rq为一个应答\n",
    "\n",
    "url='https://www.hue.edu.cn/'\n",
    "rq = requests.get(url) \n",
    "\n",
    "\n",
    "text = rq.content.decode('utf-8')\n",
    "htmldom1 = etree.HTML(text)\n",
    "print(htmldom1.xpath('/html//head/title/text()'))  \n",
    "\n"
   ]
  },
  {
   "cell_type": "code",
   "execution_count": 37,
   "id": "60ecb453",
   "metadata": {},
   "outputs": [
    {
     "data": {
      "text/plain": [
       "[<Element a at 0x21344c520c0>,\n",
       " <Element a at 0x213450b7100>,\n",
       " <Element a at 0x21344c4cc80>,\n",
       " <Element a at 0x21344c4cc00>,\n",
       " <Element a at 0x2134506f080>,\n",
       " <Element a at 0x2134506f100>,\n",
       " <Element a at 0x2134506f740>,\n",
       " <Element a at 0x2134506f4c0>]"
      ]
     },
     "execution_count": 37,
     "metadata": {},
     "output_type": "execute_result"
    }
   ],
   "source": [
    "htmldom1.xpath('//*[@id=\"header\"]/div[2]/div/div/ul/li/a')"
   ]
  },
  {
   "cell_type": "code",
   "execution_count": 34,
   "id": "f9b9141a",
   "metadata": {
    "scrolled": true
   },
   "outputs": [
    {
     "data": {
      "text/plain": [
       "[['学校简介', '历史沿革', '校史档案', '现任领导', '历任领导', '发展规划', '信息公开'],\n",
       " ['教学学院', '职能部门', '共管和直属单位'],\n",
       " ['本科生教育', '研究生教育', '继续教育'],\n",
       " ['重点学科', '本科专业', '科研在线', '科研平台', '学报'],\n",
       " ['教师招聘', '辅导员招聘'],\n",
       " ['招生在线', '就业在线', '创业孵化基地'],\n",
       " ['国际交流', '港澳台交流', '对外合作'],\n",
       " ['光谷论坛', '学工在线', '青年在线', '工会活动']]"
      ]
     },
     "execution_count": 34,
     "metadata": {},
     "output_type": "execute_result"
    }
   ],
   "source": [
    "t1 = htmldom1.xpath('//*[@id=\"header\"]/div[2]/div/div/ul/li/ul')\n",
    "t5 = []\n",
    "for i in t1:\n",
    "    t2 = i.xpath('li/a/text()')\n",
    "    t5.append(t2)\n",
    "t5"
   ]
  },
  {
   "cell_type": "code",
   "execution_count": null,
   "id": "937e024a",
   "metadata": {},
   "outputs": [],
   "source": []
  },
  {
   "cell_type": "code",
   "execution_count": null,
   "id": "f5f8ae21",
   "metadata": {},
   "outputs": [],
   "source": []
  }
 ],
 "metadata": {
  "kernelspec": {
   "display_name": "Python 3",
   "language": "python",
   "name": "python3"
  },
  "language_info": {
   "codemirror_mode": {
    "name": "ipython",
    "version": 3
   },
   "file_extension": ".py",
   "mimetype": "text/x-python",
   "name": "python",
   "nbconvert_exporter": "python",
   "pygments_lexer": "ipython3",
   "version": "3.8.8"
  }
 },
 "nbformat": 4,
 "nbformat_minor": 5
}
