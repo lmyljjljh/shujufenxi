{
 "cells": [
  {
   "cell_type": "markdown",
   "metadata": {},
   "source": [
    "# 分析地址，爬取动态网页"
   ]
  },
  {
   "cell_type": "code",
   "execution_count": 2,
   "metadata": {},
   "outputs": [
    {
     "name": "stdout",
     "output_type": "stream",
     "text": [
      "{'data': [{'picPath': 'https://cdn.ptpress.cn/uploadimg/Material/978-7-115-52057-9/72jpg/52057_s300.jpg', 'bookName': '科技改变中国丛书（2019年主题出版重点项目）', 'seq': 1, 'bookId': '140c53af-0fa9-4d80-ba79-a768169c9382'}, {'picPath': 'https://cdn.ptpress.cn/uploadimg/Material/978-7-115-44355-7/72jpg/44355_s300.jpg', 'bookName': '文明之光（中华优秀出版物奖图书奖）', 'seq': 2, 'bookId': 'f7d8608d-fad6-4b50-8d7e-07e4e2e0ca0d'}, {'picPath': 'https://cdn.ptpress.cn/uploadimg/Material/978-7-115-51316-8/72jpg/51316_s300.jpg', 'bookName': '奇妙量子世界（2019年度“中国好书”）', 'seq': 3, 'bookId': '99e8d193-00c6-42fc-b8e7-4207f0ebb432'}, {'picPath': 'https://cdn.ptpress.cn/uploadimg/Material/978-7-115-26039-0/72jpg/26039_s300.jpg', 'bookName': '科学家带你去探险丛书（国家科技进步二等奖）', 'seq': 4, 'bookId': '31f74ba4-9afe-4fac-b95f-cba02744d61f'}, {'picPath': 'https://cdn.ptpress.cn/uploadimg/Material/978-7-115-38358-7/72jpg/38358_s300.jpg', 'bookName': '空间多维协同传输理论与关键技术（第四届中国出版政府奖图书奖）', 'seq': 5, 'bookId': '0254b28d-5aeb-4cae-905c-8041f03cf6b3'}, {'picPath': 'https://cdn.ptpress.cn/uploadimg/Material/978-7-115-57094-9/72jpg/57094_s300.jpg', 'bookName': '科学与忠诚：钱学森的人生答卷', 'seq': 6, 'bookId': '31a77b57-1e9c-47c2-a5e8-52bd7583145a'}, {'picPath': 'https://cdn.ptpress.cn/uploadimg/Material/978-7-115-53878-9/72jpg/53878_s300.jpg', 'bookName': '计量单位进化史 从度量身体到度量宇宙', 'seq': 7, 'bookId': 'e36f78cf-a504-4d26-b7d3-961583204c59'}, {'picPath': 'https://cdn.ptpress.cn/uploadimg/Material/978-7-115-56607-2/72jpg/56607_s300.jpg', 'bookName': '一说万物 现代物理学百年漫谈', 'seq': 8, 'bookId': 'ec23099b-2d06-43a0-bebf-82e4479e12e8'}], 'msg': '返回数据成功！', 'success': True}\n"
     ]
    }
   ],
   "source": [
    "#分析数据加载地址，爬取网页数据 ，人邮主页“https://www.ptpress.com.cn/”\n",
    "import requests \n",
    "import json  #用于将网页上获取的数据转为json文件\n",
    "import pandas as pd\n",
    "\n",
    "#通过“右键-检查-ctrl+F-关键字搜索”获取异步加载数据文件的地址，并与host拼接\n",
    "url = 'https://www.ptpress.com.cn/masterpiece/getMasterpieceListForPortal'\n",
    "rq = requests.get(url)\n",
    "rq.text  #字符串\n",
    "books=json.loads(rq.text)   #变为json格式,也就是字典\n",
    "print(books)              #type(books)   结果为字典\n",
    "\n",
    "col_id=[book['bookId'] for book in books['data']]\n",
    "col_name=[book['bookName'] for book in books['data'] ]\n",
    "\n",
    "df=pd.DataFrame({'ISBN':col_id,'NAME':col_name})\n",
    "df\n",
    "df.to_csv(\"d:/mybook.csv\",index=False ,encoding='utf-8-sig')"
   ]
  },
  {
   "cell_type": "code",
   "execution_count": 3,
   "metadata": {},
   "outputs": [
    {
     "name": "stdout",
     "output_type": "stream",
     "text": [
      "{'data': [{'picPath': 'https://cdn.ptpress.cn/uploadimg/Material/978-7-115-57111-3/72jpg/57111_s300.jpg', 'bookName': '丝绸之路历史百科绘本 乘风破浪 开往世界的船', 'bookId': 'f33b3a29-0d51-45bd-862b-1aea9b2f28ff'}, {'picPath': 'https://cdn.ptpress.cn/uploadimg/Material/978-7-115-57112-0/72jpg/57112_s300.jpg', 'bookName': '丝绸之路历史百科绘本 勇往直前 走向世界的路', 'bookId': 'e1b9b526-7cf5-4c6c-b85e-bbf991400ce4'}, {'picPath': 'https://cdn.ptpress.cn/uploadimg/Material/978-7-115-57554-8/72jpg/57554_s300.jpg', 'bookName': 'STEAM探索 法布尔昆虫记互动立体书 蜘蛛和蝎子', 'bookId': '951b2a3a-4c6f-4572-8496-91cee8b8ac4b'}, {'picPath': 'https://cdn.ptpress.cn/uploadimg/Material/978-7-115-60074-5/72jpg/60074_s300.jpg', 'bookName': '奇思妙想树叶画  一学就会的创意植物手工', 'bookId': 'db1efa15-b1f6-4d81-952a-60b63d0eeb8e'}, {'picPath': 'https://cdn.ptpress.cn/uploadimg/Material/978-7-115-57552-4/72jpg/57552_s300.jpg', 'bookName': 'STEAM探索 法布尔昆虫记互动立体书 蜂和红蚂蚁', 'bookId': 'fbab84e4-f4bb-4e76-ab68-56e1010effd1'}, {'picPath': 'https://cdn.ptpress.cn/uploadimg/Material/978-7-115-57553-1/72jpg/57553_s300.jpg', 'bookName': 'STEAM探索 法布尔昆虫记互动立体书 蜣螂', 'bookId': '9a814cc9-48ce-47af-885d-c1bb8c59f4c6'}, {'picPath': 'https://cdn.ptpress.cn/uploadimg/Material/978-7-115-59978-0/72jpg/59978_s300.jpg', 'bookName': '海底小纵队呼叫野外小纵队 第一辑', 'bookId': '727a5fa7-1e36-40e7-bb20-fb35f710bbe7'}, {'picPath': 'https://cdn.ptpress.cn/uploadimg/Material/978-7-115-59880-6/72jpg/59880.jpg', 'bookName': '爱丽丝奇境解谜记', 'bookId': '9e5ba9c9-5ebb-4512-88b4-fcb1a8c64b66'}], 'msg': '返回数据成功！', 'success': True}\n"
     ]
    },
    {
     "data": {
      "text/html": [
       "<div>\n",
       "<style scoped>\n",
       "    .dataframe tbody tr th:only-of-type {\n",
       "        vertical-align: middle;\n",
       "    }\n",
       "\n",
       "    .dataframe tbody tr th {\n",
       "        vertical-align: top;\n",
       "    }\n",
       "\n",
       "    .dataframe thead th {\n",
       "        text-align: right;\n",
       "    }\n",
       "</style>\n",
       "<table border=\"1\" class=\"dataframe\">\n",
       "  <thead>\n",
       "    <tr style=\"text-align: right;\">\n",
       "      <th></th>\n",
       "      <th>ISBN</th>\n",
       "      <th>NAME</th>\n",
       "    </tr>\n",
       "  </thead>\n",
       "  <tbody>\n",
       "    <tr>\n",
       "      <th>0</th>\n",
       "      <td>f33b3a29-0d51-45bd-862b-1aea9b2f28ff</td>\n",
       "      <td>丝绸之路历史百科绘本 乘风破浪 开往世界的船</td>\n",
       "    </tr>\n",
       "    <tr>\n",
       "      <th>1</th>\n",
       "      <td>e1b9b526-7cf5-4c6c-b85e-bbf991400ce4</td>\n",
       "      <td>丝绸之路历史百科绘本 勇往直前 走向世界的路</td>\n",
       "    </tr>\n",
       "    <tr>\n",
       "      <th>2</th>\n",
       "      <td>951b2a3a-4c6f-4572-8496-91cee8b8ac4b</td>\n",
       "      <td>STEAM探索 法布尔昆虫记互动立体书 蜘蛛和蝎子</td>\n",
       "    </tr>\n",
       "    <tr>\n",
       "      <th>3</th>\n",
       "      <td>db1efa15-b1f6-4d81-952a-60b63d0eeb8e</td>\n",
       "      <td>奇思妙想树叶画  一学就会的创意植物手工</td>\n",
       "    </tr>\n",
       "    <tr>\n",
       "      <th>4</th>\n",
       "      <td>fbab84e4-f4bb-4e76-ab68-56e1010effd1</td>\n",
       "      <td>STEAM探索 法布尔昆虫记互动立体书 蜂和红蚂蚁</td>\n",
       "    </tr>\n",
       "    <tr>\n",
       "      <th>5</th>\n",
       "      <td>9a814cc9-48ce-47af-885d-c1bb8c59f4c6</td>\n",
       "      <td>STEAM探索 法布尔昆虫记互动立体书 蜣螂</td>\n",
       "    </tr>\n",
       "    <tr>\n",
       "      <th>6</th>\n",
       "      <td>727a5fa7-1e36-40e7-bb20-fb35f710bbe7</td>\n",
       "      <td>海底小纵队呼叫野外小纵队 第一辑</td>\n",
       "    </tr>\n",
       "    <tr>\n",
       "      <th>7</th>\n",
       "      <td>9e5ba9c9-5ebb-4512-88b4-fcb1a8c64b66</td>\n",
       "      <td>爱丽丝奇境解谜记</td>\n",
       "    </tr>\n",
       "  </tbody>\n",
       "</table>\n",
       "</div>"
      ],
      "text/plain": [
       "                                   ISBN                       NAME\n",
       "0  f33b3a29-0d51-45bd-862b-1aea9b2f28ff     丝绸之路历史百科绘本 乘风破浪 开往世界的船\n",
       "1  e1b9b526-7cf5-4c6c-b85e-bbf991400ce4     丝绸之路历史百科绘本 勇往直前 走向世界的路\n",
       "2  951b2a3a-4c6f-4572-8496-91cee8b8ac4b  STEAM探索 法布尔昆虫记互动立体书 蜘蛛和蝎子\n",
       "3  db1efa15-b1f6-4d81-952a-60b63d0eeb8e       奇思妙想树叶画  一学就会的创意植物手工\n",
       "4  fbab84e4-f4bb-4e76-ab68-56e1010effd1  STEAM探索 法布尔昆虫记互动立体书 蜂和红蚂蚁\n",
       "5  9a814cc9-48ce-47af-885d-c1bb8c59f4c6     STEAM探索 法布尔昆虫记互动立体书 蜣螂\n",
       "6  727a5fa7-1e36-40e7-bb20-fb35f710bbe7           海底小纵队呼叫野外小纵队 第一辑\n",
       "7  9e5ba9c9-5ebb-4512-88b4-fcb1a8c64b66                   爱丽丝奇境解谜记"
      ]
     },
     "execution_count": 3,
     "metadata": {},
     "output_type": "execute_result"
    }
   ],
   "source": [
    "# 【练习】爬取人邮出版社“新书推荐”中，任意门类的书本名称及其ISBN\n",
    "\n",
    "import requests \n",
    "import json  #用于将网页上获取的数据转为json文件\n",
    "import pandas as pd\n",
    "\n",
    "#通过“右键-检查-ctrl+F-关键字搜索”获取异步加载数据文件的地址，并与host拼接\n",
    "url = 'https://www.ptpress.com.cn/recommendBook/getRecommendBookListForPortal?bookTagId=cb1ecdd6-9881-421c-bc1e-ee97687e83f2'\n",
    "rq = requests.get(url)\n",
    "rq.text  #字符串\n",
    "books=json.loads(rq.text)   #变为json格式,也就是字典\n",
    "print(books)              #type(books)   结果为字典\n",
    "\n",
    "col_id=[book['bookId'] for book in books['data']]\n",
    "col_name=[book['bookName'] for book in books['data'] ]\n",
    "\n",
    "df1=pd.DataFrame({'ISBN':col_id,'NAME':col_name})\n",
    "\n",
    "df1\n",
    "# df=df.append(df1)  #把数据追加起来\n",
    "# df"
   ]
  },
  {
   "cell_type": "code",
   "execution_count": null,
   "metadata": {},
   "outputs": [],
   "source": []
  }
 ],
 "metadata": {
  "kernelspec": {
   "display_name": "Python 3",
   "language": "python",
   "name": "python3"
  },
  "language_info": {
   "codemirror_mode": {
    "name": "ipython",
    "version": 3
   },
   "file_extension": ".py",
   "mimetype": "text/x-python",
   "name": "python",
   "nbconvert_exporter": "python",
   "pygments_lexer": "ipython3",
   "version": "3.8.8"
  }
 },
 "nbformat": 4,
 "nbformat_minor": 2
}
