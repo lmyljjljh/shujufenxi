{
 "cells": [
  {
   "cell_type": "markdown",
   "metadata": {},
   "source": [
    "# 5.1　绘制固定区域的子图"
   ]
  },
  {
   "cell_type": "markdown",
   "metadata": {},
   "source": [
    "## 5.1.1　绘制单子图"
   ]
  },
  {
   "cell_type": "code",
   "execution_count": 1,
   "metadata": {},
   "outputs": [
    {
     "name": "stdout",
     "output_type": "stream",
     "text": [
      "Using matplotlib backend: Qt5Agg\n"
     ]
    }
   ],
   "source": [
    "# 通过窗口的形式显示图片, 很好地体现子图与整个画布的位置关系\n",
    "%matplotlib auto\n",
    "import matplotlib.pyplot as plt\n",
    "# 画布被规划为3×2 的矩阵区域 , 之后在索引为6 的区域中绘制子图\n",
    "ax_one = plt.subplot(326) \n",
    "ax_one.plot([1, 2, 3, 4, 5]) \n",
    "# 画布被规划为3×1 的矩阵区域 , 之后在索引为2 的区域中绘制子图　　　\n",
    "ax_two = plt.subplot(312) \n",
    "ax_two.plot([1, 2, 3, 4, 5])\n",
    "plt.show()"
   ]
  },
  {
   "cell_type": "markdown",
   "metadata": {},
   "source": [
    "## 5.1.2　实例1：某工厂产品A与产品B去年的销售额分析"
   ]
  },
  {
   "cell_type": "code",
   "execution_count": 2,
   "metadata": {},
   "outputs": [
    {
     "name": "stdout",
     "output_type": "stream",
     "text": [
      "Using matplotlib backend: Qt5Agg\n"
     ]
    }
   ],
   "source": [
    "# 01_product_sales\n",
    "%matplotlib auto\n",
    "import numpy as np\n",
    "import matplotlib.pyplot as plt\n",
    "plt.rcParams['font.sans-serif'] = [\"SimHei\"]\n",
    "x = [x for x in range(1, 13)]\n",
    "y1 = [20, 28, 23, 16, 29, 36, 39, 33, 31, 19, 21, 25]\n",
    "y2 = [17, 22, 39, 26, 35, 23, 25, 27, 29, 38, 28, 20]\n",
    "labels = ['1 月', '2 月', '3 月', '4 月', '5 月', '6 月', '7月', '8 月', '9 月', '10 月', '11 月', '12 月']\n",
    "# 将画布规划成等分布局的2×1的矩阵区域 , 之后在索引为1的区域中绘制子图\n",
    "ax1 = plt.subplot(211)\n",
    "ax1.plot(x, y1, 'm--o', lw=2, ms=5, label='产品A')\n",
    "ax1.plot(x, y2, 'g--o', lw=2, ms=5, label='产品B')\n",
    "ax1.set_title(\"产品A 与产品B的销售额\", fontsize=11)\n",
    "ax1.set_ylim(10, 45)\n",
    "ax1.set_ylabel('销售额(亿元)')\n",
    "ax1.set_xlabel('月份')\n",
    "for xy1 in zip(x, y1):\n",
    "    ax1.annotate(\"%s\" % xy1[1], xy=xy1, xytext=(-5, 5), textcoords='offset points')\n",
    "for xy2 in zip(x, y2):\n",
    "    ax1.annotate(\"%s\" % xy2[1], xy=xy2, xytext=(-5, 5), textcoords='offset points')\n",
    "ax1.legend()\n",
    "# 将画布规划成等分布局的2×2的矩阵区域 , 之后在索引为3的区域中绘制子图\n",
    "ax2 = plt.subplot(223)\n",
    "ax2.pie(y1, radius=1, wedgeprops={'width':0.5}, labels=labels, autopct='%3.1f%%', pctdistance=0.75)\n",
    "ax2.set_title('产品A的销售额 ')\n",
    "# 将画布规划成等分布局的2×2的矩阵区域 , 之后在索引为4的区域中绘制子图\n",
    "ax3 = plt.subplot(224)\n",
    "ax3.pie(y2, radius=1, wedgeprops={'width':0.5}, labels=labels,autopct='%3.1f%%', pctdistance=0.75)\n",
    "ax3.set_title('产品B的销售额 ')\n",
    "# 调整子图之间的距离\n",
    "plt.tight_layout()\n",
    "plt.show()"
   ]
  },
  {
   "cell_type": "markdown",
   "metadata": {},
   "source": [
    "## 5.1.3　绘制多子图"
   ]
  },
  {
   "cell_type": "code",
   "execution_count": 10,
   "metadata": {},
   "outputs": [
    {
     "name": "stdout",
     "output_type": "stream",
     "text": [
      "Using matplotlib backend: Qt5Agg\n"
     ]
    },
    {
     "data": {
      "text/plain": [
       "[<matplotlib.lines.Line2D at 0x28997fa52e0>]"
      ]
     },
     "execution_count": 10,
     "metadata": {},
     "output_type": "execute_result"
    }
   ],
   "source": [
    "%matplotlib auto\n",
    "import matplotlib.pyplot as plt\n",
    "# 将画布划分为2×2的等分区域\n",
    "fig, ax_arr = plt.subplots(2, 2)\n",
    "# 获取 ax_arr 数组第1行第0列的元素 , 也就是第3个区域\n",
    "ax_thr = ax_arr[1, 0]\n",
    "ax_thr.plot([1, 2, 3, 4, 5])"
   ]
  },
  {
   "cell_type": "markdown",
   "metadata": {},
   "source": [
    "## 5.1.4　实例2：部分国家养猫与养狗人群比例分析"
   ]
  },
  {
   "cell_type": "code",
   "execution_count": 11,
   "metadata": {},
   "outputs": [
    {
     "name": "stdout",
     "output_type": "stream",
     "text": [
      "Using matplotlib backend: Qt5Agg\n"
     ]
    }
   ],
   "source": [
    "# 02_people_with_dogs_and_cats\n",
    "%matplotlib auto\n",
    "import numpy as np\n",
    "import matplotlib.pyplot as plt\n",
    "plt.rcParams['font.sans-serif'] = [\"SimHei\"]\n",
    "# 添加无指向型注释文本\n",
    "def autolabel(ax, rects):\n",
    "    \"\"\" 在每个矩形条的上方附加一个文本标签, 以显示其高度\"\"\"\n",
    "    for rect in rects:\n",
    "        width = rect.get_width()    #  获取每个矩形条的高度\n",
    "        ax.text(width  + 3, rect.get_y() , s='{}'.format(width), ha='center', va='bottom')\n",
    "y = np.arange(12)\n",
    "x1 = np.array([19, 33, 28, 29, 14, 24, 57, 6, 26, 15, 27, 39])\n",
    "x2 = np.array([25, 33, 58, 39, 15, 64, 29, 23, 22, 11, 27, 50])\n",
    "labels = np.array(['中国', '加拿大', '巴西', '澳大利亚', '日本', '墨西哥', \n",
    "                   '俄罗斯', '韩国', '瑞士', '土耳其', '英国', '美国'])\n",
    "# 将画布规划为1×2的矩阵区域 , 依次在每个区域中绘制子图\n",
    "fig, (ax1, ax2) = plt.subplots(1, 2)\n",
    "barh1_rects = ax1.barh(y, x1, height=0.5, tick_label=labels, color='#FFA500')\n",
    "ax1.set_xlabel('人群比例(%)')\n",
    "ax1.set_title('部分国家养猫人群的比例')\n",
    "ax1.set_xlim(0, x1.max() + 10)\n",
    "autolabel(ax1, barh1_rects)\n",
    "barh2_rects = ax2.barh(y, x2, height=0.5, tick_label=labels, color='#20B2AA')\n",
    "ax2.set_xlabel('人群比例(%)')\n",
    "ax2.set_title('部分国家养狗人群的比例')\n",
    "ax2.set_xlim(0, x2.max() + 10)\n",
    "autolabel(ax2, barh2_rects)\n",
    "# 调整子图之间的距离\n",
    "plt.tight_layout()\n",
    "plt.show()"
   ]
  },
  {
   "cell_type": "markdown",
   "metadata": {},
   "source": [
    "# 5.2　绘制自定义区域的子图"
   ]
  },
  {
   "cell_type": "markdown",
   "metadata": {},
   "source": [
    "## 5.2.1　绘制单子图"
   ]
  },
  {
   "cell_type": "code",
   "execution_count": 12,
   "metadata": {},
   "outputs": [
    {
     "name": "stdout",
     "output_type": "stream",
     "text": [
      "Using matplotlib backend: Qt5Agg\n"
     ]
    }
   ],
   "source": [
    "%matplotlib auto\n",
    "import matplotlib.pyplot as plt\n",
    "# 画布被规划成2×3的矩阵区域 , 之后在第0行第2列的区域中绘制子图　　　\n",
    "ax1 = plt.subplot2grid((2, 3), (0, 2))\n",
    "ax1.plot([1, 2, 3, 4, 5])\n",
    "# 画布被规划成2×3的矩阵区域 , 之后在第1行第1～2列的区域中绘制子图　　　\n",
    "ax2 = plt.subplot2grid((2, 3), (1, 1), colspan=2)\n",
    "ax2.plot([1, 2, 3, 4, 5])\n",
    "plt.show()"
   ]
  },
  {
   "cell_type": "markdown",
   "metadata": {},
   "source": [
    "## 5.2.2　实例3：2017年与2018年抖音用户分析"
   ]
  },
  {
   "cell_type": "code",
   "execution_count": 13,
   "metadata": {},
   "outputs": [
    {
     "name": "stdout",
     "output_type": "stream",
     "text": [
      "Using matplotlib backend: Qt5Agg\n"
     ]
    }
   ],
   "source": [
    "%matplotlib auto\n",
    "# 03_2017_and_2018_user_analysis_of_douyin\n",
    "import numpy as np\n",
    "import matplotlib.pyplot as plt\n",
    "plt.rcParams[\"font.sans-serif\"] = [\"SimHei\"]\n",
    "data_2017 = np.array([21, 35, 22, 19, 3])\n",
    "data_2018 = np.array([13, 32, 27, 27, 1])\n",
    "x = np.arange(5)\n",
    "y = np.array([51, 73, 99, 132, 45])\n",
    "labels = np.array(['一线城市', '二线城市', '三线城市', '四线及以外', '其他国家及地区'])\n",
    "# 平均增长倍数\n",
    "average = 75\n",
    "bar_width = 0.5\n",
    "# 添加无指向型注释文本\n",
    "def autolabel(ax, rects):\n",
    "    \"\"\" 在每个矩形条的上方附加一个文本标签, 以显示其高度\"\"\"\n",
    "    for rect in rects:\n",
    "        height = rect.get_height()     #  获取每个矩形条的高度\n",
    "        ax.text(rect.get_x()  + bar_width/2, height + 3, s='{}'.format(height), ha='center', va='bottom')\n",
    "# 第1个子图\n",
    "ax_one = plt.subplot2grid((3,2), (0,0), rowspan=2, colspan=2)\n",
    "bar_rects = ax_one.bar(x, y, tick_label=labels, color='#20B2AA', width=bar_width)\n",
    "ax_one.set_title('抖音2018vs2017人群增长倍数')\n",
    "ax_one.set_ylabel('增长倍数')\n",
    "autolabel(ax_one, bar_rects)\n",
    "ax_one.set_ylim(0, y.max() + 20)\n",
    "ax_one.axhline(y=75, linestyle='--', linewidth=1, color='gray')\n",
    "# 第2个子图\n",
    "ax_two = plt.subplot2grid((3,2), (2,0))\n",
    "ax_two.pie(data_2017, radius=1.5, labels=labels, autopct='%3.1f %%', \n",
    "           colors=['#2F4F4F', '#FF0000', '#A9A9A9', '#FFD700', '#B0C4DE'])\n",
    "ax_two.set_title('2017年抖音用户地区分布的比例')\n",
    "# 第3个子图\n",
    "ax_thr = plt.subplot2grid((3,2), (2,1))\n",
    "ax_thr.pie(data_2018, radius=1.5, labels=labels, autopct='%3.1f %%', \n",
    "           colors=['#2F4F4F', '#FF0000', '#A9A9A9', '#FFD700', '#B0C4DE' ])\n",
    "ax_thr.set_title('2018年抖音用户地区分布的比例')\n",
    "# 调整子图之间的距离\n",
    "plt.tight_layout()\n",
    "plt.show()"
   ]
  },
  {
   "cell_type": "markdown",
   "metadata": {},
   "source": [
    "# 5.3　共享子图的坐标轴"
   ]
  },
  {
   "cell_type": "markdown",
   "metadata": {},
   "source": [
    "## 5.3.1　共享相邻子图的坐标轴"
   ]
  },
  {
   "cell_type": "code",
   "execution_count": 14,
   "metadata": {},
   "outputs": [
    {
     "name": "stdout",
     "output_type": "stream",
     "text": [
      "Using matplotlib backend: Qt5Agg\n"
     ]
    }
   ],
   "source": [
    "%matplotlib auto\n",
    "import numpy as np\n",
    "import matplotlib.pyplot as plt\n",
    "plt.rcParams['axes.unicode_minus'] = False\n",
    "x1 = np.linspace(0, 2 *np.pi, 400)\n",
    "x2 = np.linspace(0.01, 10, 100)\n",
    "x3 = np.random.rand(10)\n",
    "x4 = np.arange(0,6,0.5)\n",
    "y1 = np.cos(x1 ** 2)\n",
    "y2 = np.sin(x2)\n",
    "y3 = np.linspace(0,3,10)\n",
    "y4 = np.power(x4,3)\n",
    "# 共享每一列子图之间的x 轴\n",
    "fig, ax_arr = plt.subplots(2, 2, sharex='col')\n",
    "ax1 = ax_arr[0, 0]\n",
    "ax1.plot(x1, y1)\n",
    "ax2 = ax_arr[0, 1]\n",
    "ax2.plot(x2, y2)\n",
    "ax3 = ax_arr[1, 0]\n",
    "ax3.scatter(x3, y3)\n",
    "ax4 = ax_arr[1, 1]\n",
    "ax4.scatter(x4, y4)\n",
    "plt.show()"
   ]
  },
  {
   "cell_type": "markdown",
   "metadata": {},
   "source": [
    "## 5.3.2　共享非相邻子图的坐标轴"
   ]
  },
  {
   "cell_type": "code",
   "execution_count": 15,
   "metadata": {},
   "outputs": [
    {
     "name": "stdout",
     "output_type": "stream",
     "text": [
      "Using matplotlib backend: Qt5Agg\n"
     ]
    },
    {
     "data": {
      "text/plain": [
       "[<matplotlib.lines.Line2D at 0x2899b0c9c10>]"
      ]
     },
     "execution_count": 15,
     "metadata": {},
     "output_type": "execute_result"
    }
   ],
   "source": [
    "%matplotlib auto\n",
    "x1 = np.linspace(0, 2 *np.pi, 400)\n",
    "y1 = np.cos(x1 ** 2)\n",
    "x2 = np.linspace(0.01, 10, 100)\n",
    "y2 = np.sin(x2)\n",
    "ax_one = plt.subplot(221)\n",
    "ax_one.plot(x1, y1)\n",
    "# 共享子图 ax_one 和ax_two 的x 轴\n",
    "ax_two = plt.subplot(224, sharex=ax_one)\n",
    "ax_two.plot(x2, y2)"
   ]
  },
  {
   "cell_type": "markdown",
   "metadata": {},
   "source": [
    "## 5.3.3　实例4：某地区全年平均气温与降水量、蒸发量的关系"
   ]
  },
  {
   "cell_type": "code",
   "execution_count": 16,
   "metadata": {},
   "outputs": [],
   "source": [
    "# 04_temperature_precipitation_evaporation\n",
    "import numpy as np\n",
    "import matplotlib.pyplot as plt\n",
    "plt.rcParams[\"font.sans-serif\"] = [\"SimHei\"]\n",
    "plt.rcParams[\"axes.unicode_minus\"] = False\n",
    "month_x = np.arange(1, 13, 1)\n",
    "# 平均气温\n",
    "data_tem = np.array([2.0, 2.2, 3.3, 4.5, 6.3, 10.2, \n",
    "                     20.3, 33.4, 23.0, 16.5, 12.0, 6.2])\n",
    "# 降水量\n",
    "data_precipitation = np.array([2.6, 5.9, 9.0, 26.4, 28.7, 70.7,  \n",
    "                               175.6, 182.2, 48.7, 18.8, 6.0, 2.3])\n",
    "# 蒸发量\n",
    "data_evaporation = np.array([2.0, 4.9, 7.0, 23.2, 25.6, 76.7, \n",
    "                             135.6, 162.2, 32.6, 20.0, 6.4, 3.3])\n",
    "fig, ax = plt.subplots()\n",
    "bar_ev = ax.bar(month_x, data_evaporation, color='orange', tick_label=['1月', '2月', '3月', '4月', '5月', '6月',\n",
    "                                                                       '7月', '8月', '9月', '10月', '11月', '12月'])\n",
    "bar_pre = ax.bar(month_x, data_precipitation, bottom=data_evaporation, color='green')\n",
    "ax.set_ylabel('水量 (ml)')\n",
    "ax.set_title('平均气温与降水量、蒸发量的关系')\n",
    "ax_right = ax.twinx()\n",
    "line = ax_right.plot(month_x, data_tem, 'o-m')\n",
    "ax_right.set_ylabel('气温($^\\circ$C)')\n",
    "# 添加图例\n",
    "plt.legend([bar_ev, bar_pre, line[0]], ['蒸发量', '降水量', '平均气温'],\n",
    "           shadow=True, fancybox=True)\n",
    "plt.show()"
   ]
  },
  {
   "cell_type": "markdown",
   "metadata": {},
   "source": [
    "# 5.4　子图的布局"
   ]
  },
  {
   "cell_type": "markdown",
   "metadata": {},
   "source": [
    "## 5.4.1　约束布局"
   ]
  },
  {
   "cell_type": "code",
   "execution_count": 1,
   "metadata": {},
   "outputs": [
    {
     "data": {
      "image/png": "[encoded data removed]",
      "text/plain": [
       "<Figure size 432x288 with 4 Axes>"
      ]
     },
     "metadata": {
      "needs_background": "light"
     },
     "output_type": "display_data"
    }
   ],
   "source": [
    "import matplotlib.pyplot as plt\n",
    "# 绘制子图并启用约束布局\n",
    "fig, axs = plt.subplots(2, 2, constrained_layout=True)\n",
    "ax_one = axs[0, 0]\n",
    "ax_one.set_title('Title')\n",
    "ax_two = axs[0, 1]\n",
    "ax_two.set_title('Title')\n",
    "ax_thr = axs[1, 0]\n",
    "ax_thr.set_title('Title')\n",
    "ax_fou = axs[1, 1]\n",
    "ax_fou.set_title('Title')\n",
    "plt.show()"
   ]
  },
  {
   "cell_type": "markdown",
   "metadata": {},
   "source": [
    "## 5.4.2　紧密布局"
   ]
  },
  {
   "cell_type": "code",
   "execution_count": 2,
   "metadata": {},
   "outputs": [
    {
     "data": {
      "image/png": "[encoded data removed]",
      "text/plain": [
       "<Figure size 432x288 with 4 Axes>"
      ]
     },
     "metadata": {
      "needs_background": "light"
     },
     "output_type": "display_data"
    }
   ],
   "source": [
    "import matplotlib.pyplot as plt\n",
    "fig, axs = plt.subplots(2, 2)\n",
    "ax_one = axs[0, 0]\n",
    "ax_one.set_title('Title')\n",
    "ax_two = axs[0, 1]\n",
    "ax_two.set_title('Title')\n",
    "ax_thr = axs[1, 0]\n",
    "ax_thr.set_title('Title')\n",
    "ax_fou = axs[1, 1]\n",
    "ax_fou.set_title('Title')\n",
    "# 调整子图之间的距离\n",
    "plt.tight_layout(pad=0.4, w_pad=0.5, h_pad=2)\n",
    "plt.show()"
   ]
  },
  {
   "cell_type": "markdown",
   "metadata": {},
   "source": [
    "## 5.4.3　自定义布局"
   ]
  },
  {
   "cell_type": "code",
   "execution_count": 17,
   "metadata": {},
   "outputs": [],
   "source": [
    "import matplotlib.pyplot as plt\n",
    "import matplotlib.gridspec as gridspec\n",
    "fig2 = plt.figure()\n",
    "spec2 = gridspec.GridSpec(ncols=2, nrows=2, figure=fig2)\n",
    "f2_ax1 = fig2.add_subplot(spec2[0, 0])\n",
    "f2_ax2 = fig2.add_subplot(spec2[0, 1])\n",
    "f2_ax3 = fig2.add_subplot(spec2[1, 0])\n",
    "f2_ax4 = fig2.add_subplot(spec2[1, 1])\n",
    "plt.show()"
   ]
  },
  {
   "cell_type": "code",
   "execution_count": 18,
   "metadata": {},
   "outputs": [
    {
     "data": {
      "text/plain": [
       "Text(0.5, 1.0, 'gs[-1, -2]')"
      ]
     },
     "execution_count": 18,
     "metadata": {},
     "output_type": "execute_result"
    }
   ],
   "source": [
    "fig3 = plt.figure()\n",
    "gs = fig3.add_gridspec(3, 3)\n",
    "f3_ax1 = fig3.add_subplot(gs[0, :])\n",
    "f3_ax1.set_title('gs[0, :]')\n",
    "f3_ax2 = fig3.add_subplot(gs[1, :-1])\n",
    "f3_ax2.set_title('gs[1, :-1]')\n",
    "f3_ax3 = fig3.add_subplot(gs[1:, -1])\n",
    "f3_ax3.set_title('gs[1:, -1]')\n",
    "f3_ax4 = fig3.add_subplot(gs[-1, 0])\n",
    "f3_ax4.set_title('gs[-1, 0]')\n",
    "f3_ax5 = fig3.add_subplot(gs[-1, -2])\n",
    "f3_ax5.set_title('gs[-1, -2]')"
   ]
  },
  {
   "cell_type": "markdown",
   "metadata": {},
   "source": [
    "## 5.4.4　实例5：2018年上半年某品牌汽车销售情况"
   ]
  },
  {
   "cell_type": "code",
   "execution_count": 6,
   "metadata": {},
   "outputs": [
    {
     "data": {
      "image/png": "[encoded data removed]",
      "text/plain": [
       "<Figure size 432x288 with 3 Axes>"
      ]
     },
     "metadata": {
      "needs_background": "light"
     },
     "output_type": "display_data"
    }
   ],
   "source": [
    "# 05_cars_sales\n",
    "import numpy as np\n",
    "import matplotlib.pyplot as plt\n",
    "import matplotlib.gridspec as gridspec\n",
    "plt.rcParams[\"font.sans-serif\"] = [\"SimHei\"]\n",
    "x_month = np.array(['1月', '2月', '3月', '4月', '5月', '6月'])\n",
    "y_sales = np.array([2150, 1050, 1560, 1480, 1530, 1490])\n",
    "x_citys = np.array(['北京', '上海', '广州', '深圳', '浙江', '山东'])\n",
    "y_sale_count = np.array([83775, 62860, 59176, 64205, 48671, 39968])\n",
    "# 创建画布和布局\n",
    "fig = plt.figure(constrained_layout=True)\n",
    "gs = fig.add_gridspec(2, 2)\n",
    "ax_one = fig.add_subplot(gs[0, :])\n",
    "ax_two = fig.add_subplot(gs[1, 0])\n",
    "ax_thr = fig.add_subplot(gs[1, 1])\n",
    "# 第1个子图\n",
    "ax_one.bar(x_month, y_sales, width=0.5, color='#3299CC')\n",
    "ax_one.set_title('2018年上半年某品牌汽车的销售额')\n",
    "ax_one.set_ylabel('销售额(亿元)')\n",
    "# 第2个子图\n",
    "ax_two.plot(x_citys, y_sale_count, 'm--o', ms=8)\n",
    "ax_two.set_title('分公司某品牌汽车的销量')\n",
    "ax_two.set_ylabel('销量(辆)')\n",
    "# 第3个子图\n",
    "ax_thr.stackplot(x_citys, y_sale_count, color='#9999FF')\n",
    "ax_thr.set_title('分公司某品牌汽车的销量')\n",
    "ax_thr.set_ylabel('销量(辆)')\n",
    "plt.show()"
   ]
  },
  {
   "cell_type": "code",
   "execution_count": null,
   "metadata": {},
   "outputs": [],
   "source": []
  }
 ],
 "metadata": {
  "kernelspec": {
   "display_name": "Python 3",
   "language": "python",
   "name": "python3"
  },
  "language_info": {
   "codemirror_mode": {
    "name": "ipython",
    "version": 3
   },
   "file_extension": ".py",
   "mimetype": "text/x-python",
   "name": "python",
   "nbconvert_exporter": "python",
   "pygments_lexer": "ipython3",
   "version": "3.8.8"
  }
 },
 "nbformat": 4,
 "nbformat_minor": 4
}
